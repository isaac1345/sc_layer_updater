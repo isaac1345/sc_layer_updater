{
 "cells": [
  {
   "cell_type": "markdown",
   "metadata": {},
   "source": [
    "## Welcome to your notebook.\n"
   ]
  },
  {
   "cell_type": "markdown",
   "metadata": {},
   "source": [
    "#### Run this cell to connect to your GIS and get started:"
   ]
  },
  {
   "cell_type": "code",
   "execution_count": 1,
   "metadata": {},
   "outputs": [],
   "source": [
    "from arcgis.gis import GIS\n",
    "import pandas as pd\n",
    "import json\n",
    "# gis = GIS(\"home\")\n",
    "\n",
    "agol_username = input(\"Username: \")\n",
    "agol_password = input(\"Password: \")\n",
    "\n",
    "url = 'https://governmentofbc.maps.arcgis.com' # change to your url, whether maphub, geohub, or other\n",
    "gis = GIS(url, agol_username, agol_password)"
   ]
  },
  {
   "cell_type": "markdown",
   "metadata": {},
   "source": [
    "#### Now you are ready to start!"
   ]
  },
  {
   "cell_type": "code",
   "execution_count": 2,
   "metadata": {},
   "outputs": [],
   "source": [
    "# Change to grabbing/updating urls\n",
    "\n",
    "\n",
    "class map_id_update:\n",
    "    def __init__(self,primary_id, rest_dict={}, id_dict={}):\n",
    "        self.primary_id = primary_id\n",
    "        self.rest_dict = rest_dict\n",
    "        self.id_dict = id_dict\n",
    "        self.change_list = []\n",
    "        self.prim_wm_item = gis.content.get(self.primary_id)\n",
    "        self.prim_wm_json = self.prim_wm_item.get_data()\n",
    "    def changes(self, layer_level=\"initial\"): # recursive changes to layers\n",
    "        if layer_level == \"initial\":\n",
    "            layer_level=self.prim_wm_json['operationalLayers']\n",
    "        for i in reversed(range(len(layer_level))):\n",
    "            if layer_level[i]['layerType'] == \"ArcGISFeatureLayer\" and \"itemId\" in list(layer_level[i].keys()) and layer_level[i]['itemId'] in list(self.id_dict.keys()):\n",
    "                self.change_list.append(layer_level[i]['itemId'] + \" replacement: \" + self.id_dict[layer_level[i]['itemId']])\n",
    "                layer_level[i]['itemId'] = self.id_dict[layer_level[i]['itemId']]\n",
    "            if layer_level[i]['layerType'] == \"ArcGISFeatureLayer\" and \"url\" in (layer_level[i].keys()) and layer_level[i]['url'] in list(self.rest_dict.keys()):\n",
    "                self.change_list.append(layer_level[i]['url'] + \" replacement: \" + self.rest_dict[layer_level[i]['url']])\n",
    "                layer_level[i]['url'] = self.rest_dict[layer_level[i]['url']]\n",
    "            else:\n",
    "                if layer_level[i]['layerType'] == 'GroupLayer':\n",
    "                    self.changes(layer_level[i]['layers'])\n",
    "    def push(self): # push changes to map\n",
    "        self.deriv_wm_item = gis.content.get(self.primary_id)\n",
    "        self.deriv_wm_item.update(data = self.prim_wm_json)\n"
   ]
  },
  {
   "cell_type": "code",
   "execution_count": 3,
   "metadata": {},
   "outputs": [],
   "source": [
    "# For populating the dict, use the pandas example that grabbed REST URLs\n",
    "# grab the csv off github and parse accordingly\n",
    "# Read csv file from GITHub using pandas\n",
    "url = 'https://raw.githubusercontent.com/isaac1345/sc_layer_updater/main/old_new_urls.csv'\n",
    "df = pd.read_csv(url,index_col=0,encoding='cp1252')\n",
    "\n",
    "id_dict = {}\n",
    "rest_dict = {}\n",
    "for index, row in df.iterrows():\n",
    "    id_dict[row[3]] = row[1]\n",
    "    rest_dict[row[4]] = row[8]\n"
   ]
  },
  {
   "cell_type": "code",
   "execution_count": 4,
   "metadata": {},
   "outputs": [],
   "source": [
    "item_list = []\n",
    "for item in gis.content.search(query=\"* AND \\  owner:\" + gis.users.me.username, max_items=5000):\n",
    "    item_list.append([item.title,item.id])"
   ]
  },
  {
   "cell_type": "code",
   "execution_count": null,
   "metadata": {},
   "outputs": [],
   "source": [
    "maps = 0\n",
    "changes_reqd = 0\n",
    "for in_id in item_list:\n",
    "    in_id = in_id[1]\n",
    "#     print(in_id)\n",
    "    item_prefetch = gis.content.get(in_id)\n",
    "#     print(item_prefetch)\n",
    "    if item_prefetch.type == \"Web Map\":\n",
    "        map_2 = map_id_update(in_id, rest_dict, id_dict)\n",
    "        filename = f\"{map_2.prim_wm_item.title}_{in_id}.json\".replace(\":\", \"-\").replace('\"', '').replace(\"|\", \"_\").replace(\"/\", \"_\").replace(\"\\\\\", \"_\")\n",
    "        filename = f\"AGO_JSON_Backups/{filename}\"\n",
    "        with open(filename, \"w\") as file_handle:\n",
    "            file_handle.write(json.dumps(map_2.prim_wm_json))\n",
    "        map_2.changes()\n",
    "        if len(map_2.change_list) > 0:\n",
    "            changes_reqd += 1\n",
    "            print(\"\\n\")\n",
    "            print(f\"        {map_2.prim_wm_item.title}\")\n",
    "            for line in map_2.change_list:\n",
    "                print(line)\n",
    "            choice = input(f\"        {map_2.prim_wm_item.title}:\\nMake the above changes? (y/n)\\n\")\n",
    "            if choice == \"y\":\n",
    "                print(\"making changes\")\n",
    "                map_2.push()\n",
    "            else:\n",
    "                print(\"Skipped. JSON was still backed up\")\n",
    "        maps+=1\n",
    "print(f\"maps checked: {maps}\")\n",
    "print(f\"maps requiring change: {changes_reqd}\")"
   ]
  }
 ],
 "metadata": {
  "esriNotebookRuntime": {
   "notebookRuntimeName": "ArcGIS Notebook Python 3 Standard",
   "notebookRuntimeVersion": "7.0"
  },
  "kernelspec": {
   "display_name": "Python 3.7.11 64-bit ('arcgispro-py3')",
   "language": "python",
   "name": "python3"
  },
  "language_info": {
   "codemirror_mode": {
    "name": "ipython",
    "version": 3
   },
   "file_extension": ".py",
   "mimetype": "text/x-python",
   "name": "python",
   "nbconvert_exporter": "python",
   "pygments_lexer": "ipython3",
   "version": "3.7.11"
  },
  "vscode": {
   "interpreter": {
    "hash": "6997a058ec9e2ba4702bf18019ac6a5966b02b2a10a9372f38a4f3d22d8856c7"
   }
  }
 },
 "nbformat": 4,
 "nbformat_minor": 2
}
